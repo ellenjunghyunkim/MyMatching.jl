{
 "cells": [
  {
   "cell_type": "code",
   "execution_count": 1,
   "metadata": {
    "collapsed": false,
    "scrolled": true
   },
   "outputs": [
    {
     "data": {
      "text/plain": [
       "my_deferred_acceptance (generic function with 2 methods)"
      ]
     },
     "execution_count": 1,
     "metadata": {},
     "output_type": "execute_result"
    }
   ],
   "source": [
    "\n",
    "    function my_deferred_acceptance(prop_prefs::Vector{Vector{Int}},\n",
    "                                resp_prefs::Vector{Vector{Int}},\n",
    "                                caps::Vector{Int})\n",
    "        num_prop = length(prop_prefs)\n",
    "        num_resp = length(resp_prefs)\n",
    "        \n",
    "        prop_matched = zeros(Int,num_prop)\n",
    "        resp_matched = zeros(Int, sum(caps))\n",
    "        \n",
    "        prop_pointers = ones(Int, num_prop)\n",
    "        accept = zeros(Int,num_resp)\n",
    "    #making indptr\n",
    "        indptr = Array{Int}(num_resp+1)\n",
    "        indptr[1] = 1\n",
    "        for i in 1:num_resp\n",
    "            indptr[i+1] = indptr[i] + caps[i]\n",
    "        end\n",
    "    #main loop\n",
    "    \n",
    "        for j in 1:num_resp\n",
    "            for i in 1:num_prop\n",
    "                if prop_matched[i] == 0 && prop_pointers[i] <= length(prop_prefs[i])\n",
    "                k = prop_prefs[i][prop_pointers[i]]\n",
    "                if findfirst(resp_prefs[k],i) != 0\n",
    "                    if accept[k] < caps[k]\n",
    "                        resp_matched[indptr[k+1]-1 - accept[k]]=i\n",
    "                        prop_matched[i]=k\n",
    "                        accept[k]+=1\n",
    "                    \n",
    "                    else\n",
    "                        list= resp_matched[indptr[k]:indptr[k+1]-1]\n",
    "                        ranking = zeros(Int, caps[k])\n",
    "                        for e in 1:caps[k]\n",
    "                            ranking[e]= findfirst(resp_prefs[k],list[e])\n",
    "                        end\n",
    "                        if 0< findfirst(resp_prefs[k],i)<maximum(ranking)\n",
    "                            resp_matched[indptr[k]+indmax(ranking)-1]=i\n",
    "                            prop_matched[list[indmax(ranking)]]=0\n",
    "                            prop_matched[i]=k\n",
    "                        end\n",
    "                    end\n",
    "                end\n",
    "                prop_pointers[i]+=1\n",
    "            end\n",
    "        end\n",
    "    end\n",
    "    return prop_matched, resp_matched, indptr\n",
    "end\n",
    "\n",
    "function my_deferred_acceptance(prop_prefs::Vector{Vector{Int}},\n",
    "                                   resp_prefs::Vector{Vector{Int}})\n",
    "    caps = ones(Int, length(resp_prefs))\n",
    "    \n",
    "    prop_matched, resp_matched, indptr =\n",
    "        my_deferred_acceptance(prop_prefs, resp_prefs, caps)\n",
    "    return prop_matched, resp_matched\n",
    "end\n"
   ]
  },
  {
   "cell_type": "code",
   "execution_count": 2,
   "metadata": {
    "collapsed": false
   },
   "outputs": [
    {
     "name": "stderr",
     "output_type": "stream",
     "text": [
      "\u001b[1m\u001b[34mINFO: Testing MyMatching\n",
      "\u001b[0m"
     ]
    },
    {
     "name": "stdout",
     "output_type": "stream",
     "text": [
      "\u001b[1m\u001b[37mTest Summary:               | \u001b[0m\u001b[1m\u001b[32mPass  \u001b[0m\u001b[1m\u001b[34mTotal\u001b[0m\n",
      "  Testing deferred acceptance | \u001b[1m\u001b[32m  12  \u001b[0m\u001b[1m\u001b[34m   12\u001b[0m\n"
     ]
    },
    {
     "name": "stderr",
     "output_type": "stream",
     "text": [
      "\u001b[1m\u001b[34mINFO: MyMatching tests passed\n",
      "\u001b[0m"
     ]
    }
   ],
   "source": [
    "Pkg.test(\"MyMatching\")"
   ]
  },
  {
   "cell_type": "code",
   "execution_count": null,
   "metadata": {
    "collapsed": true
   },
   "outputs": [],
   "source": []
  }
 ],
 "metadata": {
  "kernelspec": {
   "display_name": "Julia 0.5.1",
   "language": "julia",
   "name": "julia-0.5"
  },
  "language_info": {
   "file_extension": ".jl",
   "mimetype": "application/julia",
   "name": "julia",
   "version": "0.5.1"
  }
 },
 "nbformat": 4,
 "nbformat_minor": 2
}
